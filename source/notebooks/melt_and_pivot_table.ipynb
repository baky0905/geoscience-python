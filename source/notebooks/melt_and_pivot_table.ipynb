{
 "cells": [
  {
   "cell_type": "markdown",
   "metadata": {},
   "source": [
    "# Reshape your dataframe to wide and long formats"
   ]
  },
  {
   "cell_type": "markdown",
   "metadata": {},
   "source": [
    "Driven by [Ted Petrou's Minimally Sufficient Pandas](https://medium.com/dunder-data/minimally-sufficient-pandas-a8e67f2a2428) approach I will also preach that\n",
    "I as well feel strongly that Minimally Sufficient Pandas is a useful guide for those wanting to increase their effectiveness at data analysis without getting lost in the syntax."
   ]
  },
  {
   "cell_type": "code",
   "execution_count": 1,
   "metadata": {},
   "outputs": [],
   "source": [
    "import pandas as pd"
   ]
  },
  {
   "cell_type": "code",
   "execution_count": 2,
   "metadata": {},
   "outputs": [
    {
     "data": {
      "text/html": "<div>\n<style scoped>\n    .dataframe tbody tr th:only-of-type {\n        vertical-align: middle;\n    }\n\n    .dataframe tbody tr th {\n        vertical-align: top;\n    }\n\n    .dataframe thead th {\n        text-align: right;\n    }\n</style>\n<table border=\"1\" class=\"dataframe\">\n  <thead>\n    <tr style=\"text-align: right;\">\n      <th></th>\n      <th>wellbore_name</th>\n      <th>well</th>\n      <th>drilling_operator</th>\n      <th>production_licence</th>\n      <th>purpose</th>\n      <th>status</th>\n      <th>content</th>\n      <th>well_type</th>\n      <th>sub_sea</th>\n      <th>entry_date</th>\n      <th>...</th>\n      <th>npdid_wellbore</th>\n      <th>dsc_npdid_discovery</th>\n      <th>npdid_field</th>\n      <th>npdid_facility_drilling</th>\n      <th>npdid_wellbore_reclass</th>\n      <th>l_npdid_production_licence</th>\n      <th>npdid_site_survey</th>\n      <th>date_updated</th>\n      <th>date_updated_max</th>\n      <th>datesync_npd</th>\n    </tr>\n  </thead>\n  <tbody>\n    <tr>\n      <td>0</td>\n      <td>1/2-1</td>\n      <td>1/2-1</td>\n      <td>Phillips Petroleum Norsk AS</td>\n      <td>143</td>\n      <td>WILDCAT</td>\n      <td>P&amp;A</td>\n      <td>OIL</td>\n      <td>EXPLORATION</td>\n      <td>NO</td>\n      <td>20.03.1989</td>\n      <td>...</td>\n      <td>1382</td>\n      <td>43814.0</td>\n      <td>3437650.0</td>\n      <td>296245.0</td>\n      <td>0</td>\n      <td>21956.0</td>\n      <td>NaN</td>\n      <td>03.10.2019</td>\n      <td>03.10.2019</td>\n      <td>22.11.2019</td>\n    </tr>\n    <tr>\n      <td>1</td>\n      <td>1/2-2</td>\n      <td>1/2-2</td>\n      <td>Paladin Resources Norge AS</td>\n      <td>143 CS</td>\n      <td>WILDCAT</td>\n      <td>P&amp;A</td>\n      <td>OIL SHOWS</td>\n      <td>EXPLORATION</td>\n      <td>NO</td>\n      <td>14.12.2005</td>\n      <td>...</td>\n      <td>5192</td>\n      <td>NaN</td>\n      <td>NaN</td>\n      <td>278245.0</td>\n      <td>0</td>\n      <td>2424919.0</td>\n      <td>NaN</td>\n      <td>03.10.2019</td>\n      <td>03.10.2019</td>\n      <td>22.11.2019</td>\n    </tr>\n    <tr>\n      <td>2</td>\n      <td>1/3-1</td>\n      <td>1/3-1</td>\n      <td>A/S Norske Shell</td>\n      <td>011</td>\n      <td>WILDCAT</td>\n      <td>P&amp;A</td>\n      <td>GAS</td>\n      <td>EXPLORATION</td>\n      <td>NO</td>\n      <td>06.07.1968</td>\n      <td>...</td>\n      <td>154</td>\n      <td>43820.0</td>\n      <td>NaN</td>\n      <td>288604.0</td>\n      <td>0</td>\n      <td>20844.0</td>\n      <td>NaN</td>\n      <td>03.10.2019</td>\n      <td>03.10.2019</td>\n      <td>22.11.2019</td>\n    </tr>\n    <tr>\n      <td>3</td>\n      <td>1/3-2</td>\n      <td>1/3-2</td>\n      <td>A/S Norske Shell</td>\n      <td>011</td>\n      <td>WILDCAT</td>\n      <td>P&amp;A</td>\n      <td>DRY</td>\n      <td>EXPLORATION</td>\n      <td>NO</td>\n      <td>14.05.1969</td>\n      <td>...</td>\n      <td>165</td>\n      <td>NaN</td>\n      <td>NaN</td>\n      <td>288847.0</td>\n      <td>0</td>\n      <td>20844.0</td>\n      <td>NaN</td>\n      <td>03.10.2019</td>\n      <td>03.10.2019</td>\n      <td>22.11.2019</td>\n    </tr>\n    <tr>\n      <td>4</td>\n      <td>1/3-3</td>\n      <td>1/3-3</td>\n      <td>Elf Petroleum Norge AS</td>\n      <td>065</td>\n      <td>WILDCAT</td>\n      <td>P&amp;A</td>\n      <td>OIL</td>\n      <td>EXPLORATION</td>\n      <td>NO</td>\n      <td>22.08.1982</td>\n      <td>...</td>\n      <td>87</td>\n      <td>43826.0</td>\n      <td>1028599.0</td>\n      <td>288334.0</td>\n      <td>0</td>\n      <td>21316.0</td>\n      <td>NaN</td>\n      <td>03.10.2019</td>\n      <td>03.10.2019</td>\n      <td>22.11.2019</td>\n    </tr>\n  </tbody>\n</table>\n<p>5 rows × 87 columns</p>\n</div>",
      "text/plain": "  wellbore_name   well            drilling_operator production_licence  \\\n0         1/2-1  1/2-1  Phillips Petroleum Norsk AS               143    \n1         1/2-2  1/2-2   Paladin Resources Norge AS             143 CS   \n2         1/3-1  1/3-1             A/S Norske Shell               011    \n3         1/3-2  1/3-2             A/S Norske Shell               011    \n4         1/3-3  1/3-3       Elf Petroleum Norge AS               065    \n\n   purpose status    content    well_type sub_sea  entry_date  ...  \\\n0  WILDCAT    P&A        OIL  EXPLORATION      NO  20.03.1989  ...   \n1  WILDCAT    P&A  OIL SHOWS  EXPLORATION      NO  14.12.2005  ...   \n2  WILDCAT    P&A        GAS  EXPLORATION      NO  06.07.1968  ...   \n3  WILDCAT    P&A        DRY  EXPLORATION      NO  14.05.1969  ...   \n4  WILDCAT    P&A        OIL  EXPLORATION      NO  22.08.1982  ...   \n\n  npdid_wellbore dsc_npdid_discovery npdid_field npdid_facility_drilling  \\\n0           1382             43814.0   3437650.0                296245.0   \n1           5192                 NaN         NaN                278245.0   \n2            154             43820.0         NaN                288604.0   \n3            165                 NaN         NaN                288847.0   \n4             87             43826.0   1028599.0                288334.0   \n\n  npdid_wellbore_reclass  l_npdid_production_licence npdid_site_survey  \\\n0                      0                     21956.0               NaN   \n1                      0                   2424919.0               NaN   \n2                      0                     20844.0               NaN   \n3                      0                     20844.0               NaN   \n4                      0                     21316.0               NaN   \n\n  date_updated  date_updated_max  datesync_npd  \n0   03.10.2019        03.10.2019    22.11.2019  \n1   03.10.2019        03.10.2019    22.11.2019  \n2   03.10.2019        03.10.2019    22.11.2019  \n3   03.10.2019        03.10.2019    22.11.2019  \n4   03.10.2019        03.10.2019    22.11.2019  \n\n[5 rows x 87 columns]"
     },
     "execution_count": 2,
     "metadata": {},
     "output_type": "execute_result"
    }
   ],
   "source": [
    "local_relative_path = \"./source/data_processed/wellbore_exploration_all_clean_names.csv\"\n",
    "wellbore_exploration_all = pd.read_csv(local_relative_path)\n",
    "wellbore_exploration_all.head()"
   ]
  },
  {
   "cell_type": "markdown",
   "metadata": {},
   "source": [
    "## Long to wide dataframe format with `pivot_table`"
   ]
  },
  {
   "cell_type": "markdown",
   "metadata": {},
   "source": [
    "Let’s use the pivot method to reshape this data so that the `purpose` of the wells become columns names and the `water_depth` becomes their respective values."
   ]
  },
  {
   "cell_type": "markdown",
   "metadata": {},
   "source": [
    "Guidance — Consider using only `pivot_table` and not `pivot`.\n",
    "\n",
    "`pivot_table` can accomplish all of what `pivot` can do. In the case that you do not need to perform an aggregation, you still must provide an aggregation function."
   ]
  },
  {
   "cell_type": "markdown",
   "metadata": {},
   "source": [
    "**Before:**"
   ]
  },
  {
   "cell_type": "code",
   "execution_count": 3,
   "metadata": {},
   "outputs": [
    {
     "data": {
      "text/html": "<div>\n<style scoped>\n    .dataframe tbody tr th:only-of-type {\n        vertical-align: middle;\n    }\n\n    .dataframe tbody tr th {\n        vertical-align: top;\n    }\n\n    .dataframe thead th {\n        text-align: right;\n    }\n</style>\n<table border=\"1\" class=\"dataframe\">\n  <thead>\n    <tr style=\"text-align: right;\">\n      <th></th>\n      <th>wellbore_name</th>\n      <th>purpose</th>\n      <th>water_depth</th>\n    </tr>\n  </thead>\n  <tbody>\n    <tr>\n      <td>771</td>\n      <td>25/11-14 S</td>\n      <td>APPRAISAL</td>\n      <td>127.0</td>\n    </tr>\n    <tr>\n      <td>1773</td>\n      <td>7120/1-3</td>\n      <td>WILDCAT</td>\n      <td>342.0</td>\n    </tr>\n    <tr>\n      <td>246</td>\n      <td>7/11-12 A</td>\n      <td>WILDCAT</td>\n      <td>72.0</td>\n    </tr>\n    <tr>\n      <td>1292</td>\n      <td>35/3-3</td>\n      <td>WILDCAT</td>\n      <td>259.0</td>\n    </tr>\n    <tr>\n      <td>1683</td>\n      <td>6605/8-2</td>\n      <td>WILDCAT</td>\n      <td>818.0</td>\n    </tr>\n    <tr>\n      <td>1341</td>\n      <td>35/11-7</td>\n      <td>WILDCAT</td>\n      <td>355.0</td>\n    </tr>\n    <tr>\n      <td>1848</td>\n      <td>7219/12-2 S</td>\n      <td>WILDCAT</td>\n      <td>338.0</td>\n    </tr>\n    <tr>\n      <td>1246</td>\n      <td>34/10-37</td>\n      <td>WILDCAT</td>\n      <td>140.0</td>\n    </tr>\n    <tr>\n      <td>778</td>\n      <td>25/11-19 SR</td>\n      <td>APPRAISAL</td>\n      <td>129.0</td>\n    </tr>\n    <tr>\n      <td>1638</td>\n      <td>6507/7-13</td>\n      <td>WILDCAT</td>\n      <td>381.0</td>\n    </tr>\n  </tbody>\n</table>\n</div>",
      "text/plain": "     wellbore_name    purpose  water_depth\n771     25/11-14 S  APPRAISAL        127.0\n1773      7120/1-3    WILDCAT        342.0\n246      7/11-12 A    WILDCAT         72.0\n1292        35/3-3    WILDCAT        259.0\n1683      6605/8-2    WILDCAT        818.0\n1341       35/11-7    WILDCAT        355.0\n1848   7219/12-2 S    WILDCAT        338.0\n1246      34/10-37    WILDCAT        140.0\n778    25/11-19 SR  APPRAISAL        129.0\n1638     6507/7-13    WILDCAT        381.0"
     },
     "execution_count": 3,
     "metadata": {},
     "output_type": "execute_result"
    }
   ],
   "source": [
    "(wellbore_exploration_all\n",
    "     .filter(items=[\"wellbore_name\", \"purpose\", \"water_depth\"])\n",
    "     .sample(10))"
   ]
  },
  {
   "cell_type": "markdown",
   "execution_count": null,
   "metadata": {},
   "outputs": [],
   "source": [
    "Column `purpose` has 3 values - WILDCAT, APPRAISAL and WILDCAT-CCS so we are expecting 3 new columns after applying `pivot_table` method."
   ]
  },
  {
   "cell_type": "code",
   "execution_count": 4,
   "metadata": {},
   "outputs": [
    {
     "data": {
      "text/plain": "WILDCAT        1226\nAPPRAISAL       695\nWILDCAT-CCS       1\nName: purpose, dtype: int64"
     },
     "execution_count": 4,
     "metadata": {},
     "output_type": "execute_result"
    }
   ],
   "source": [
    "wellbore_exploration_all[\"purpose\"].value_counts()"
   ]
  },
  {
   "cell_type": "code",
   "execution_count": 5,
   "metadata": {},
   "outputs": [
    {
     "data": {
      "text/plain": "'Dataframe has 1922 rows and 87 columns'"
     },
     "execution_count": 5,
     "metadata": {},
     "output_type": "execute_result"
    }
   ],
   "source": [
    "f\"Dataframe has {wellbore_exploration_all.shape[0]} rows and {wellbore_exploration_all.shape[1]} columns\""
   ]
  },
  {
   "cell_type": "markdown",
   "execution_count": null,
   "metadata": {},
   "outputs": [],
   "source": [
    "**After:**"
   ]
  },
  {
   "cell_type": "code",
   "execution_count": 6,
   "metadata": {},
   "outputs": [
    {
     "data": {
      "text/html": "<div>\n<style scoped>\n    .dataframe tbody tr th:only-of-type {\n        vertical-align: middle;\n    }\n\n    .dataframe tbody tr th {\n        vertical-align: top;\n    }\n\n    .dataframe thead th {\n        text-align: right;\n    }\n</style>\n<table border=\"1\" class=\"dataframe\">\n  <thead>\n    <tr style=\"text-align: right;\">\n      <th>purpose</th>\n      <th>wellbore_name</th>\n      <th>APPRAISAL</th>\n      <th>WILDCAT</th>\n      <th>WILDCAT-CCS</th>\n    </tr>\n  </thead>\n  <tbody>\n    <tr>\n      <td>0</td>\n      <td>1/2-1</td>\n      <td>NaN</td>\n      <td>72.0</td>\n      <td>NaN</td>\n    </tr>\n    <tr>\n      <td>1</td>\n      <td>1/2-2</td>\n      <td>NaN</td>\n      <td>74.0</td>\n      <td>NaN</td>\n    </tr>\n    <tr>\n      <td>2</td>\n      <td>1/3-1</td>\n      <td>NaN</td>\n      <td>71.0</td>\n      <td>NaN</td>\n    </tr>\n    <tr>\n      <td>3</td>\n      <td>1/3-10</td>\n      <td>72.0</td>\n      <td>NaN</td>\n      <td>NaN</td>\n    </tr>\n    <tr>\n      <td>4</td>\n      <td>1/3-10 A</td>\n      <td>72.0</td>\n      <td>NaN</td>\n      <td>NaN</td>\n    </tr>\n  </tbody>\n</table>\n</div>",
      "text/plain": "purpose wellbore_name  APPRAISAL  WILDCAT  WILDCAT-CCS\n0               1/2-1        NaN     72.0          NaN\n1               1/2-2        NaN     74.0          NaN\n2               1/3-1        NaN     71.0          NaN\n3              1/3-10       72.0      NaN          NaN\n4            1/3-10 A       72.0      NaN          NaN"
     },
     "execution_count": 6,
     "metadata": {},
     "output_type": "execute_result"
    }
   ],
   "source": [
    "df_pivoted = (wellbore_exploration_all\n",
    "    .filter(items=[\"wellbore_name\", \"purpose\", \"water_depth\"])\n",
    "    .pivot_table(\n",
    "        index=\"wellbore_name\",\n",
    "        columns=\"purpose\", # Column(s) we want to pivot.\n",
    "        values=\"water_depth\", # Column with values that we want to have in our new pivoted columns.\n",
    "        aggfunc=\"mean\" # Even if there is not aggregation we need to provide aggregation funciton.\n",
    "    )\n",
    "    .reset_index()\n",
    "    )\n",
    "\n",
    "#df_pivoted.rename_axis(\"\", axis=\"columns\", inplace=True)\n",
    "\n",
    "df_pivoted.head()"
   ]
  },
  {
   "cell_type": "code",
   "execution_count": 7,
   "metadata": {},
   "outputs": [
    {
     "data": {
      "text/plain": "'Dataframe has 1922 rows and 4 columns'"
     },
     "execution_count": 7,
     "metadata": {},
     "output_type": "execute_result"
    }
   ],
   "source": [
    "f\"Dataframe has {df_pivoted.shape[0]} rows and {df_pivoted.shape[1]} columns\""
   ]
  },
  {
   "cell_type": "markdown",
   "execution_count": null,
   "metadata": {},
   "outputs": [],
   "source": [
    "## Wide to long dataframe format with `melt`"
   ]
  },
  {
   "cell_type": "markdown",
   "execution_count": 47,
   "metadata": {},
   "outputs": [
    {
     "ename": "SyntaxError",
     "evalue": "invalid syntax (<ipython-input-47-862eb744b096>, line 1)",
     "output_type": "error",
     "traceback": [
      "\u001b[1;36m  File \u001b[1;32m\"<ipython-input-47-862eb744b096>\"\u001b[1;36m, line \u001b[1;32m1\u001b[0m\n\u001b[1;33m    Now we will go back to the original **long** format.\u001b[0m\n\u001b[1;37m         ^\u001b[0m\n\u001b[1;31mSyntaxError\u001b[0m\u001b[1;31m:\u001b[0m invalid syntax\n"
     ]
    }
   ],
   "source": [
    "Now we will go back to the original **long** format.\n",
    "In addition we will drop values where `water_depth_m` is `na` with `.dropna`."
   ]
  },
  {
   "cell_type": "code",
   "execution_count": 8,
   "metadata": {},
   "outputs": [
    {
     "data": {
      "text/html": "<div>\n<style scoped>\n    .dataframe tbody tr th:only-of-type {\n        vertical-align: middle;\n    }\n\n    .dataframe tbody tr th {\n        vertical-align: top;\n    }\n\n    .dataframe thead th {\n        text-align: right;\n    }\n</style>\n<table border=\"1\" class=\"dataframe\">\n  <thead>\n    <tr style=\"text-align: right;\">\n      <th></th>\n      <th>wellbore_name</th>\n      <th>purpose</th>\n      <th>water_depth_m</th>\n    </tr>\n  </thead>\n  <tbody>\n    <tr>\n      <td>3</td>\n      <td>1/3-10</td>\n      <td>APPRAISAL</td>\n      <td>72.0</td>\n    </tr>\n    <tr>\n      <td>4</td>\n      <td>1/3-10 A</td>\n      <td>APPRAISAL</td>\n      <td>72.0</td>\n    </tr>\n    <tr>\n      <td>12</td>\n      <td>1/3-7</td>\n      <td>APPRAISAL</td>\n      <td>72.0</td>\n    </tr>\n    <tr>\n      <td>14</td>\n      <td>1/3-9 S</td>\n      <td>APPRAISAL</td>\n      <td>68.0</td>\n    </tr>\n    <tr>\n      <td>22</td>\n      <td>1/6-3</td>\n      <td>APPRAISAL</td>\n      <td>69.0</td>\n    </tr>\n    <tr>\n      <td>...</td>\n      <td>...</td>\n      <td>...</td>\n      <td>...</td>\n    </tr>\n    <tr>\n      <td>3840</td>\n      <td>9/4-3</td>\n      <td>WILDCAT</td>\n      <td>72.0</td>\n    </tr>\n    <tr>\n      <td>3841</td>\n      <td>9/4-4</td>\n      <td>WILDCAT</td>\n      <td>78.0</td>\n    </tr>\n    <tr>\n      <td>3842</td>\n      <td>9/4-5</td>\n      <td>WILDCAT</td>\n      <td>77.0</td>\n    </tr>\n    <tr>\n      <td>3843</td>\n      <td>9/8-1</td>\n      <td>WILDCAT</td>\n      <td>68.0</td>\n    </tr>\n    <tr>\n      <td>4762</td>\n      <td>31/5-7</td>\n      <td>WILDCAT-CCS</td>\n      <td>307.0</td>\n    </tr>\n  </tbody>\n</table>\n<p>1922 rows × 3 columns</p>\n</div>",
      "text/plain": "     wellbore_name      purpose  water_depth_m\n3           1/3-10    APPRAISAL           72.0\n4         1/3-10 A    APPRAISAL           72.0\n12           1/3-7    APPRAISAL           72.0\n14         1/3-9 S    APPRAISAL           68.0\n22           1/6-3    APPRAISAL           69.0\n...            ...          ...            ...\n3840         9/4-3      WILDCAT           72.0\n3841         9/4-4      WILDCAT           78.0\n3842         9/4-5      WILDCAT           77.0\n3843         9/8-1      WILDCAT           68.0\n4762        31/5-7  WILDCAT-CCS          307.0\n\n[1922 rows x 3 columns]"
     },
     "execution_count": 8,
     "metadata": {},
     "output_type": "execute_result"
    }
   ],
   "source": [
    "(df_pivoted\n",
    "    .melt(\n",
    "    id_vars='wellbore_name',                            # Column(s) to use as identifier variables.\n",
    "    value_vars=['APPRAISAL', 'WILDCAT', 'WILDCAT-CCS'], # Column(s) to unpivot. \n",
    "    var_name = \"purpose\",                               # Name to use for the ‘variable’ column\n",
    "    value_name='water_depth_m'                          # Name to use for the ‘value’ column\n",
    "    )\n",
    "    .dropna(subset=[\"water_depth_m\"])\n",
    "    )"
   ]
  },
  {
   "cell_type": "code",
   "execution_count": 9,
   "metadata": {},
   "outputs": [
    {
     "data": {
      "text/plain": "'Dataframe has 1922 rows and 4 columns'"
     },
     "execution_count": 9,
     "metadata": {},
     "output_type": "execute_result"
    }
   ],
   "source": [
    "f\"Dataframe has {df_pivoted.shape[0]} rows and {df_pivoted.shape[1]} columns\""
   ]
  }
 ],
 "metadata": {
  "kernelspec": {
   "display_name": "Python 3",
   "language": "python",
   "name": "python3"
  },
  "language_info": {
   "codemirror_mode": {
    "name": "ipython",
    "version": 3
   },
   "file_extension": ".py",
   "mimetype": "text/x-python",
   "name": "python",
   "nbconvert_exporter": "python",
   "pygments_lexer": "ipython3",
   "version": "3.7.4"
  }
 },
 "nbformat": 4,
 "nbformat_minor": 2
}