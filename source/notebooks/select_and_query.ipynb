{
 "cells": [
  {
   "cell_type": "markdown",
   "execution_count": null,
   "metadata": {},
   "outputs": [],
   "source": [
    "# Select columns and filter rows"
   ]
  },
  {
   "cell_type": "markdown",
   "execution_count": null,
   "metadata": {},
   "outputs": [],
   "source": [
    "## Select columns with **.filter** method"
   ]
  },
  {
   "cell_type": "code",
   "execution_count": 2,
   "metadata": {},
   "outputs": [],
   "source": [
    "import pandas as pd"
   ]
  },
  {
   "cell_type": "code",
   "execution_count": 3,
   "metadata": {},
   "outputs": [
    {
     "data": {
      "text/html": "<div>\n<style scoped>\n    .dataframe tbody tr th:only-of-type {\n        vertical-align: middle;\n    }\n\n    .dataframe tbody tr th {\n        vertical-align: top;\n    }\n\n    .dataframe thead th {\n        text-align: right;\n    }\n</style>\n<table border=\"1\" class=\"dataframe\">\n  <thead>\n    <tr style=\"text-align: right;\">\n      <th></th>\n      <th>wellbore_name</th>\n      <th>well</th>\n      <th>drilling_operator</th>\n      <th>production_licence</th>\n      <th>purpose</th>\n      <th>status</th>\n      <th>content</th>\n      <th>well_type</th>\n      <th>sub_sea</th>\n      <th>entry_date</th>\n      <th>...</th>\n      <th>npdid_wellbore</th>\n      <th>dsc_npdid_discovery</th>\n      <th>npdid_field</th>\n      <th>npdid_facility_drilling</th>\n      <th>npdid_wellbore_reclass</th>\n      <th>l_npdid_production_licence</th>\n      <th>npdid_site_survey</th>\n      <th>date_updated</th>\n      <th>date_updated_max</th>\n      <th>datesync_npd</th>\n    </tr>\n  </thead>\n  <tbody>\n    <tr>\n      <td>0</td>\n      <td>1/2-1</td>\n      <td>1/2-1</td>\n      <td>Phillips Petroleum Norsk AS</td>\n      <td>143</td>\n      <td>WILDCAT</td>\n      <td>P&amp;A</td>\n      <td>OIL</td>\n      <td>EXPLORATION</td>\n      <td>NO</td>\n      <td>20.03.1989</td>\n      <td>...</td>\n      <td>1382</td>\n      <td>43814.0</td>\n      <td>3437650.0</td>\n      <td>296245.0</td>\n      <td>0</td>\n      <td>21956.0</td>\n      <td>NaN</td>\n      <td>03.10.2019</td>\n      <td>03.10.2019</td>\n      <td>22.11.2019</td>\n    </tr>\n    <tr>\n      <td>1</td>\n      <td>1/2-2</td>\n      <td>1/2-2</td>\n      <td>Paladin Resources Norge AS</td>\n      <td>143 CS</td>\n      <td>WILDCAT</td>\n      <td>P&amp;A</td>\n      <td>OIL SHOWS</td>\n      <td>EXPLORATION</td>\n      <td>NO</td>\n      <td>14.12.2005</td>\n      <td>...</td>\n      <td>5192</td>\n      <td>NaN</td>\n      <td>NaN</td>\n      <td>278245.0</td>\n      <td>0</td>\n      <td>2424919.0</td>\n      <td>NaN</td>\n      <td>03.10.2019</td>\n      <td>03.10.2019</td>\n      <td>22.11.2019</td>\n    </tr>\n    <tr>\n      <td>2</td>\n      <td>1/3-1</td>\n      <td>1/3-1</td>\n      <td>A/S Norske Shell</td>\n      <td>011</td>\n      <td>WILDCAT</td>\n      <td>P&amp;A</td>\n      <td>GAS</td>\n      <td>EXPLORATION</td>\n      <td>NO</td>\n      <td>06.07.1968</td>\n      <td>...</td>\n      <td>154</td>\n      <td>43820.0</td>\n      <td>NaN</td>\n      <td>288604.0</td>\n      <td>0</td>\n      <td>20844.0</td>\n      <td>NaN</td>\n      <td>03.10.2019</td>\n      <td>03.10.2019</td>\n      <td>22.11.2019</td>\n    </tr>\n    <tr>\n      <td>3</td>\n      <td>1/3-2</td>\n      <td>1/3-2</td>\n      <td>A/S Norske Shell</td>\n      <td>011</td>\n      <td>WILDCAT</td>\n      <td>P&amp;A</td>\n      <td>DRY</td>\n      <td>EXPLORATION</td>\n      <td>NO</td>\n      <td>14.05.1969</td>\n      <td>...</td>\n      <td>165</td>\n      <td>NaN</td>\n      <td>NaN</td>\n      <td>288847.0</td>\n      <td>0</td>\n      <td>20844.0</td>\n      <td>NaN</td>\n      <td>03.10.2019</td>\n      <td>03.10.2019</td>\n      <td>22.11.2019</td>\n    </tr>\n    <tr>\n      <td>4</td>\n      <td>1/3-3</td>\n      <td>1/3-3</td>\n      <td>Elf Petroleum Norge AS</td>\n      <td>065</td>\n      <td>WILDCAT</td>\n      <td>P&amp;A</td>\n      <td>OIL</td>\n      <td>EXPLORATION</td>\n      <td>NO</td>\n      <td>22.08.1982</td>\n      <td>...</td>\n      <td>87</td>\n      <td>43826.0</td>\n      <td>1028599.0</td>\n      <td>288334.0</td>\n      <td>0</td>\n      <td>21316.0</td>\n      <td>NaN</td>\n      <td>03.10.2019</td>\n      <td>03.10.2019</td>\n      <td>22.11.2019</td>\n    </tr>\n  </tbody>\n</table>\n<p>5 rows × 87 columns</p>\n</div>",
      "text/plain": "  wellbore_name   well            drilling_operator production_licence  \\\n0         1/2-1  1/2-1  Phillips Petroleum Norsk AS               143    \n1         1/2-2  1/2-2   Paladin Resources Norge AS             143 CS   \n2         1/3-1  1/3-1             A/S Norske Shell               011    \n3         1/3-2  1/3-2             A/S Norske Shell               011    \n4         1/3-3  1/3-3       Elf Petroleum Norge AS               065    \n\n   purpose status    content    well_type sub_sea  entry_date  ...  \\\n0  WILDCAT    P&A        OIL  EXPLORATION      NO  20.03.1989  ...   \n1  WILDCAT    P&A  OIL SHOWS  EXPLORATION      NO  14.12.2005  ...   \n2  WILDCAT    P&A        GAS  EXPLORATION      NO  06.07.1968  ...   \n3  WILDCAT    P&A        DRY  EXPLORATION      NO  14.05.1969  ...   \n4  WILDCAT    P&A        OIL  EXPLORATION      NO  22.08.1982  ...   \n\n  npdid_wellbore dsc_npdid_discovery npdid_field npdid_facility_drilling  \\\n0           1382             43814.0   3437650.0                296245.0   \n1           5192                 NaN         NaN                278245.0   \n2            154             43820.0         NaN                288604.0   \n3            165                 NaN         NaN                288847.0   \n4             87             43826.0   1028599.0                288334.0   \n\n  npdid_wellbore_reclass  l_npdid_production_licence npdid_site_survey  \\\n0                      0                     21956.0               NaN   \n1                      0                   2424919.0               NaN   \n2                      0                     20844.0               NaN   \n3                      0                     20844.0               NaN   \n4                      0                     21316.0               NaN   \n\n  date_updated  date_updated_max  datesync_npd  \n0   03.10.2019        03.10.2019    22.11.2019  \n1   03.10.2019        03.10.2019    22.11.2019  \n2   03.10.2019        03.10.2019    22.11.2019  \n3   03.10.2019        03.10.2019    22.11.2019  \n4   03.10.2019        03.10.2019    22.11.2019  \n\n[5 rows x 87 columns]"
     },
     "execution_count": 3,
     "metadata": {},
     "output_type": "execute_result"
    }
   ],
   "source": [
    "local_relative_path = \"./source/data_processed/wellbore_exploration_all_clean_names.csv\"\n",
    "wellbore_exploration_all = pd.read_csv(local_relative_path)\n",
    "wellbore_exploration_all.head()"
   ]
  },
  {
   "cell_type": "markdown",
   "execution_count": 4,
   "metadata": {},
   "outputs": [
    {
     "ename": "SyntaxError",
     "evalue": "invalid syntax (<ipython-input-4-c326e5bb185f>, line 1)",
     "output_type": "error",
     "traceback": [
      "\u001b[1;36m  File \u001b[1;32m\"<ipython-input-4-c326e5bb185f>\"\u001b[1;36m, line \u001b[1;32m1\u001b[0m\n\u001b[1;33m    You select columns in a dataframe by using **.filter method** --- a bit non-inuitive since we use\u001b[0m\n\u001b[1;37m             ^\u001b[0m\n\u001b[1;31mSyntaxError\u001b[0m\u001b[1;31m:\u001b[0m invalid syntax\n"
     ]
    }
   ],
   "source": [
    "You select columns in a dataframe by using `.filter method*` which is a bit non-inuitive(in my head) since we use\n",
    "it to select columns by column name, and we \"**filter**\" the columns by a condition using `.query*` method.\n",
    "It is what it is :)\n"
   ]
  },
  {
   "cell_type": "code",
   "execution_count": 4,
   "metadata": {},
   "outputs": [
    {
     "data": {
      "text/html": "<div>\n<style scoped>\n    .dataframe tbody tr th:only-of-type {\n        vertical-align: middle;\n    }\n\n    .dataframe tbody tr th {\n        vertical-align: top;\n    }\n\n    .dataframe thead th {\n        text-align: right;\n    }\n</style>\n<table border=\"1\" class=\"dataframe\">\n  <thead>\n    <tr style=\"text-align: right;\">\n      <th></th>\n      <th>wellbore_name</th>\n      <th>well_type</th>\n    </tr>\n  </thead>\n  <tbody>\n    <tr>\n      <td>0</td>\n      <td>1/2-1</td>\n      <td>EXPLORATION</td>\n    </tr>\n    <tr>\n      <td>1</td>\n      <td>1/2-2</td>\n      <td>EXPLORATION</td>\n    </tr>\n    <tr>\n      <td>2</td>\n      <td>1/3-1</td>\n      <td>EXPLORATION</td>\n    </tr>\n    <tr>\n      <td>3</td>\n      <td>1/3-2</td>\n      <td>EXPLORATION</td>\n    </tr>\n    <tr>\n      <td>4</td>\n      <td>1/3-3</td>\n      <td>EXPLORATION</td>\n    </tr>\n  </tbody>\n</table>\n</div>",
      "text/plain": "  wellbore_name    well_type\n0         1/2-1  EXPLORATION\n1         1/2-2  EXPLORATION\n2         1/3-1  EXPLORATION\n3         1/3-2  EXPLORATION\n4         1/3-3  EXPLORATION"
     },
     "execution_count": 4,
     "metadata": {},
     "output_type": "execute_result"
    }
   ],
   "source": [
    "(wellbore_exploration_all\n",
    "  .filter(items=[\"wellbore_name\", \"well_type\"])\n",
    ").head()"
   ]
  },
  {
   "cell_type": "markdown",
   "execution_count": null,
   "metadata": {},
   "outputs": [],
   "source": [
    "## Filter Dataframe"
   ]
  },
  {
   "cell_type": "markdown",
   "execution_count": null,
   "metadata": {},
   "outputs": [],
   "source": [
    "### Filter with **.query** method\n"
   ]
  },
  {
   "cell_type": "markdown",
   "execution_count": null,
   "metadata": {},
   "outputs": [],
   "source": [
    "\n",
    "Filter the dataframe by the elements from the list which is defined as a part of the query argument. \n",
    "\n",
    "**REMEMBER SINGLE QUOTES WITHIN DOUBLE QUOTES.**\n",
    "\n",
    "\n",
    "**NOTE: for columns with spaces in their name, you can use backtick quoting.**"
   ]
  },
  {
   "cell_type": "code",
   "execution_count": 5,
   "metadata": {},
   "outputs": [
    {
     "data": {
      "text/html": "<div>\n<style scoped>\n    .dataframe tbody tr th:only-of-type {\n        vertical-align: middle;\n    }\n\n    .dataframe tbody tr th {\n        vertical-align: top;\n    }\n\n    .dataframe thead th {\n        text-align: right;\n    }\n</style>\n<table border=\"1\" class=\"dataframe\">\n  <thead>\n    <tr style=\"text-align: right;\">\n      <th></th>\n      <th>wellbore_name</th>\n      <th>well_type</th>\n    </tr>\n  </thead>\n  <tbody>\n    <tr>\n      <td>0</td>\n      <td>1/2-1</td>\n      <td>EXPLORATION</td>\n    </tr>\n    <tr>\n      <td>1917</td>\n      <td>7324/10-1</td>\n      <td>EXPLORATION</td>\n    </tr>\n  </tbody>\n</table>\n</div>",
      "text/plain": "     wellbore_name    well_type\n0            1/2-1  EXPLORATION\n1917     7324/10-1  EXPLORATION"
     },
     "execution_count": 5,
     "metadata": {},
     "output_type": "execute_result"
    }
   ],
   "source": [
    "(wellbore_exploration_all\n",
    "  .filter(items=[\"wellbore_name\", \"well_type\"])\n",
    "  .query(\"wellbore_name in ['1/2-1', '7324/10-1']\")\n",
    ")\n"
   ]
  },
  {
   "cell_type": "markdown",
   "execution_count": null,
   "metadata": {},
   "outputs": [],
   "source": [
    "### Query by multiple conditions"
   ]
  },
  {
   "cell_type": "markdown",
   "execution_count": null,
   "metadata": {},
   "outputs": [],
   "source": [
    "Here we just added three conditions to filter the dataframe.\n",
    "Note that I had to use `\\` withing the .query's expression just to make it a bit more readable, i.e. every condition needs to be in its own separate line."
   ]
  },
  {
   "cell_type": "code",
   "execution_count": 5,
   "metadata": {},
   "outputs": [
    {
     "data": {
      "text/html": "<div>\n<style scoped>\n    .dataframe tbody tr th:only-of-type {\n        vertical-align: middle;\n    }\n\n    .dataframe tbody tr th {\n        vertical-align: top;\n    }\n\n    .dataframe thead th {\n        text-align: right;\n    }\n</style>\n<table border=\"1\" class=\"dataframe\">\n  <thead>\n    <tr style=\"text-align: right;\">\n      <th></th>\n      <th>drilling_operator</th>\n      <th>purpose</th>\n      <th>total_depth</th>\n    </tr>\n  </thead>\n  <tbody>\n    <tr>\n      <td>298</td>\n      <td>A/S Norske Shell</td>\n      <td>WILDCAT</td>\n      <td>1971.0</td>\n    </tr>\n    <tr>\n      <td>788</td>\n      <td>Statoil Petroleum AS</td>\n      <td>WILDCAT</td>\n      <td>1890.0</td>\n    </tr>\n    <tr>\n      <td>1289</td>\n      <td>Statoil Petroleum AS</td>\n      <td>WILDCAT</td>\n      <td>1640.0</td>\n    </tr>\n    <tr>\n      <td>1537</td>\n      <td>A/S Norske Shell</td>\n      <td>WILDCAT</td>\n      <td>1920.0</td>\n    </tr>\n    <tr>\n      <td>1831</td>\n      <td>Statoil Petroleum AS</td>\n      <td>WILDCAT</td>\n      <td>1033.0</td>\n    </tr>\n    <tr>\n      <td>1850</td>\n      <td>Statoil Petroleum AS</td>\n      <td>WILDCAT</td>\n      <td>1594.0</td>\n    </tr>\n    <tr>\n      <td>1853</td>\n      <td>Statoil Petroleum AS</td>\n      <td>WILDCAT</td>\n      <td>1780.0</td>\n    </tr>\n    <tr>\n      <td>1860</td>\n      <td>Statoil Petroleum AS</td>\n      <td>WILDCAT</td>\n      <td>1855.0</td>\n    </tr>\n    <tr>\n      <td>1898</td>\n      <td>Statoil Petroleum AS</td>\n      <td>WILDCAT</td>\n      <td>1500.0</td>\n    </tr>\n    <tr>\n      <td>1901</td>\n      <td>Statoil Petroleum AS</td>\n      <td>WILDCAT</td>\n      <td>1540.0</td>\n    </tr>\n    <tr>\n      <td>1907</td>\n      <td>Statoil Petroleum AS</td>\n      <td>WILDCAT</td>\n      <td>1090.0</td>\n    </tr>\n    <tr>\n      <td>1916</td>\n      <td>Statoil Petroleum AS</td>\n      <td>WILDCAT</td>\n      <td>1100.0</td>\n    </tr>\n    <tr>\n      <td>1919</td>\n      <td>Statoil Petroleum AS</td>\n      <td>WILDCAT</td>\n      <td>1210.0</td>\n    </tr>\n    <tr>\n      <td>1921</td>\n      <td>Statoil Petroleum AS</td>\n      <td>WILDCAT</td>\n      <td>1540.0</td>\n    </tr>\n  </tbody>\n</table>\n</div>",
      "text/plain": "         drilling_operator  purpose  total_depth\n298       A/S Norske Shell  WILDCAT       1971.0\n788   Statoil Petroleum AS  WILDCAT       1890.0\n1289  Statoil Petroleum AS  WILDCAT       1640.0\n1537      A/S Norske Shell  WILDCAT       1920.0\n1831  Statoil Petroleum AS  WILDCAT       1033.0\n1850  Statoil Petroleum AS  WILDCAT       1594.0\n1853  Statoil Petroleum AS  WILDCAT       1780.0\n1860  Statoil Petroleum AS  WILDCAT       1855.0\n1898  Statoil Petroleum AS  WILDCAT       1500.0\n1901  Statoil Petroleum AS  WILDCAT       1540.0\n1907  Statoil Petroleum AS  WILDCAT       1090.0\n1916  Statoil Petroleum AS  WILDCAT       1100.0\n1919  Statoil Petroleum AS  WILDCAT       1210.0\n1921  Statoil Petroleum AS  WILDCAT       1540.0"
     },
     "execution_count": 5,
     "metadata": {},
     "output_type": "execute_result"
    }
   ],
   "source": [
    "(wellbore_exploration_all\n",
    "   .filter(items=[\"drilling_operator\", \"purpose\", \"total_depth\"]) \n",
    "   .query('drilling_operator in [\"A/S Norske Shell\", \"Statoil Petroleum AS\"] & \\\n",
    "           purpose in \"WILDCAT\" & \\\n",
    "           1000 < total_depth < 2000'))"
   ]
  },
  {
   "cell_type": "code",
   "execution_count": null,
   "metadata": {},
   "outputs": [],
   "source": [
    "### Query by a predefined list"
   ]
  },
  {
   "cell_type": "markdown",
   "execution_count": null,
   "metadata": {},
   "outputs": [],
   "source": [
    "Now we have a list of top 10 operator companies based on the amount wells drilled on the Norwegian Continental Shelf. Since the data contains historical records you will see some old names for the recent companies."
   ]
  },
  {
   "cell_type": "code",
   "execution_count": 6,
   "metadata": {},
   "outputs": [],
   "source": [
    "operators_top_10 = ['Norsk Hydro Produksjon AS',\n",
    " 'Statoil Petroleum AS',\n",
    " 'Saga Petroleum ASA',\n",
    " 'Lundin Norway AS',\n",
    " 'Esso Exploration and Production Norway A/S',\n",
    " 'A/S Norske Shell',\n",
    " 'Elf Petroleum Norge AS',\n",
    " 'Phillips Petroleum Company Norway',\n",
    " 'Statoil ASA (old)']"
   ]
  },
  {
   "cell_type": "markdown",
   "execution_count": null,
   "metadata": {},
   "outputs": [],
   "source": [
    "We can refer to variables in the environment by prefixing them with an `@` character like for example \n",
    "`@operators_top_10`, i.e.\n",
    "\n",
    "`.query(\"drilling_operator == **@operators_top_10**\")`"
   ]
  },
  {
   "cell_type": "code",
   "execution_count": 7,
   "metadata": {},
   "outputs": [
    {
     "data": {
      "text/html": "<div>\n<style scoped>\n    .dataframe tbody tr th:only-of-type {\n        vertical-align: middle;\n    }\n\n    .dataframe tbody tr th {\n        vertical-align: top;\n    }\n\n    .dataframe thead th {\n        text-align: right;\n    }\n</style>\n<table border=\"1\" class=\"dataframe\">\n  <thead>\n    <tr style=\"text-align: right;\">\n      <th></th>\n      <th>drilling_operator</th>\n      <th>drilling_days</th>\n    </tr>\n  </thead>\n  <tbody>\n    <tr>\n      <td>2</td>\n      <td>A/S Norske Shell</td>\n      <td>129</td>\n    </tr>\n    <tr>\n      <td>3</td>\n      <td>A/S Norske Shell</td>\n      <td>75</td>\n    </tr>\n    <tr>\n      <td>4</td>\n      <td>Elf Petroleum Norge AS</td>\n      <td>216</td>\n    </tr>\n    <tr>\n      <td>5</td>\n      <td>Elf Petroleum Norge AS</td>\n      <td>83</td>\n    </tr>\n    <tr>\n      <td>6</td>\n      <td>A/S Norske Shell</td>\n      <td>134</td>\n    </tr>\n    <tr>\n      <td>...</td>\n      <td>...</td>\n      <td>...</td>\n    </tr>\n    <tr>\n      <td>1907</td>\n      <td>Statoil Petroleum AS</td>\n      <td>19</td>\n    </tr>\n    <tr>\n      <td>1916</td>\n      <td>Statoil Petroleum AS</td>\n      <td>11</td>\n    </tr>\n    <tr>\n      <td>1918</td>\n      <td>Statoil Petroleum AS</td>\n      <td>29</td>\n    </tr>\n    <tr>\n      <td>1919</td>\n      <td>Statoil Petroleum AS</td>\n      <td>16</td>\n    </tr>\n    <tr>\n      <td>1921</td>\n      <td>Statoil Petroleum AS</td>\n      <td>24</td>\n    </tr>\n  </tbody>\n</table>\n<p>948 rows × 2 columns</p>\n</div>",
      "text/plain": "           drilling_operator  drilling_days\n2           A/S Norske Shell            129\n3           A/S Norske Shell             75\n4     Elf Petroleum Norge AS            216\n5     Elf Petroleum Norge AS             83\n6           A/S Norske Shell            134\n...                      ...            ...\n1907    Statoil Petroleum AS             19\n1916    Statoil Petroleum AS             11\n1918    Statoil Petroleum AS             29\n1919    Statoil Petroleum AS             16\n1921    Statoil Petroleum AS             24\n\n[948 rows x 2 columns]"
     },
     "execution_count": 7,
     "metadata": {},
     "output_type": "execute_result"
    }
   ],
   "source": [
    "(wellbore_exploration_all\n",
    "    .filter(items=['drilling_operator', \"drilling_days\"])\n",
    "    .query(\"drilling_operator == @operators_top_10\")\n",
    ")"
   ]
  },
  {
   "cell_type": "markdown",
   "execution_count": null,
   "metadata": {},
   "outputs": [],
   "source": [
    "## Sort Dataframe"
   ]
  },
  {
   "cell_type": "markdown",
   "execution_count": null,
   "metadata": {},
   "outputs": [],
   "source": [
    "Sort based on values in a single column:"
   ]
  },
  {
   "cell_type": "code",
   "execution_count": 8,
   "metadata": {},
   "outputs": [
    {
     "data": {
      "text/html": "<div>\n<style scoped>\n    .dataframe tbody tr th:only-of-type {\n        vertical-align: middle;\n    }\n\n    .dataframe tbody tr th {\n        vertical-align: top;\n    }\n\n    .dataframe thead th {\n        text-align: right;\n    }\n</style>\n<table border=\"1\" class=\"dataframe\">\n  <thead>\n    <tr style=\"text-align: right;\">\n      <th></th>\n      <th>drilling_operator</th>\n      <th>drilling_days</th>\n      <th>total_depth</th>\n    </tr>\n  </thead>\n  <tbody>\n    <tr>\n      <td>1257</td>\n      <td>Statoil ASA (old)</td>\n      <td>49</td>\n      <td>7928.0</td>\n    </tr>\n    <tr>\n      <td>1276</td>\n      <td>Statoil Petroleum AS</td>\n      <td>32</td>\n      <td>7811.0</td>\n    </tr>\n    <tr>\n      <td>1260</td>\n      <td>Statoil ASA (old)</td>\n      <td>27</td>\n      <td>7725.0</td>\n    </tr>\n    <tr>\n      <td>1258</td>\n      <td>Statoil ASA (old)</td>\n      <td>67</td>\n      <td>7594.0</td>\n    </tr>\n    <tr>\n      <td>293</td>\n      <td>Den norske stats oljeselskap a.s</td>\n      <td>203</td>\n      <td>7584.0</td>\n    </tr>\n    <tr>\n      <td>...</td>\n      <td>...</td>\n      <td>...</td>\n      <td>...</td>\n    </tr>\n    <tr>\n      <td>1332</td>\n      <td>Equinor Energy AS</td>\n      <td>0</td>\n      <td>0.0</td>\n    </tr>\n    <tr>\n      <td>702</td>\n      <td>ConocoPhillips Skandinavia AS</td>\n      <td>0</td>\n      <td>0.0</td>\n    </tr>\n    <tr>\n      <td>295</td>\n      <td>Talisman Energy Norge AS</td>\n      <td>0</td>\n      <td>0.0</td>\n    </tr>\n    <tr>\n      <td>1757</td>\n      <td>Norsk Hydro Produksjon AS</td>\n      <td>0</td>\n      <td>0.0</td>\n    </tr>\n    <tr>\n      <td>281</td>\n      <td>Spirit Energy Norway AS</td>\n      <td>0</td>\n      <td>0.0</td>\n    </tr>\n  </tbody>\n</table>\n<p>1922 rows × 3 columns</p>\n</div>",
      "text/plain": "                     drilling_operator  drilling_days  total_depth\n1257                 Statoil ASA (old)             49       7928.0\n1276              Statoil Petroleum AS             32       7811.0\n1260                 Statoil ASA (old)             27       7725.0\n1258                 Statoil ASA (old)             67       7594.0\n293   Den norske stats oljeselskap a.s            203       7584.0\n...                                ...            ...          ...\n1332                 Equinor Energy AS              0          0.0\n702      ConocoPhillips Skandinavia AS              0          0.0\n295           Talisman Energy Norge AS              0          0.0\n1757         Norsk Hydro Produksjon AS              0          0.0\n281            Spirit Energy Norway AS              0          0.0\n\n[1922 rows x 3 columns]"
     },
     "execution_count": 8,
     "metadata": {},
     "output_type": "execute_result"
    }
   ],
   "source": [
    "(wellbore_exploration_all\n",
    "    .filter(items=['drilling_operator', \"drilling_days\", \"total_depth\"])\n",
    "    .sort_values(by=\"total_depth\", ascending=False)\n",
    ")"
   ]
  },
  {
   "cell_type": "markdown",
   "execution_count": 7,
   "metadata": {},
   "outputs": [
    {
     "ename": "SyntaxError",
     "evalue": "invalid syntax (<ipython-input-7-193ccb223f9e>, line 1)",
     "output_type": "error",
     "traceback": [
      "\u001b[1;36m  File \u001b[1;32m\"<ipython-input-7-193ccb223f9e>\"\u001b[1;36m, line \u001b[1;32m1\u001b[0m\n\u001b[1;33m    Sort based on the values in multiple columns.\u001b[0m\n\u001b[1;37m             ^\u001b[0m\n\u001b[1;31mSyntaxError\u001b[0m\u001b[1;31m:\u001b[0m invalid syntax\n"
     ]
    }
   ],
   "source": [
    "Sort based on the values in multiple columns."
   ]
  },
  {
   "cell_type": "code",
   "execution_count": 9,
   "metadata": {},
   "outputs": [
    {
     "data": {
      "text/html": "<div>\n<style scoped>\n    .dataframe tbody tr th:only-of-type {\n        vertical-align: middle;\n    }\n\n    .dataframe tbody tr th {\n        vertical-align: top;\n    }\n\n    .dataframe thead th {\n        text-align: right;\n    }\n</style>\n<table border=\"1\" class=\"dataframe\">\n  <thead>\n    <tr style=\"text-align: right;\">\n      <th></th>\n      <th>drilling_operator</th>\n      <th>drilling_days</th>\n      <th>total_depth</th>\n    </tr>\n  </thead>\n  <tbody>\n    <tr>\n      <td>1478</td>\n      <td>Wintershall Norge ASA</td>\n      <td>112</td>\n      <td>4177.0</td>\n    </tr>\n    <tr>\n      <td>1447</td>\n      <td>Wintershall Norge ASA</td>\n      <td>87</td>\n      <td>4216.0</td>\n    </tr>\n    <tr>\n      <td>1368</td>\n      <td>Wintershall Norge ASA</td>\n      <td>66</td>\n      <td>3585.0</td>\n    </tr>\n    <tr>\n      <td>1366</td>\n      <td>Wintershall Norge ASA</td>\n      <td>55</td>\n      <td>2807.0</td>\n    </tr>\n    <tr>\n      <td>1317</td>\n      <td>Wintershall Norge ASA</td>\n      <td>47</td>\n      <td>3006.0</td>\n    </tr>\n    <tr>\n      <td>...</td>\n      <td>...</td>\n      <td>...</td>\n      <td>...</td>\n    </tr>\n    <tr>\n      <td>1538</td>\n      <td>A/S Norske Shell</td>\n      <td>13</td>\n      <td>1800.0</td>\n    </tr>\n    <tr>\n      <td>1534</td>\n      <td>A/S Norske Shell</td>\n      <td>12</td>\n      <td>1804.0</td>\n    </tr>\n    <tr>\n      <td>1546</td>\n      <td>A/S Norske Shell</td>\n      <td>10</td>\n      <td>1805.0</td>\n    </tr>\n    <tr>\n      <td>961</td>\n      <td>A/S Norske Shell</td>\n      <td>9</td>\n      <td>5035.0</td>\n    </tr>\n    <tr>\n      <td>1462</td>\n      <td>A/S Norske Shell</td>\n      <td>0</td>\n      <td>0.0</td>\n    </tr>\n  </tbody>\n</table>\n<p>1922 rows × 3 columns</p>\n</div>",
      "text/plain": "          drilling_operator  drilling_days  total_depth\n1478  Wintershall Norge ASA            112       4177.0\n1447  Wintershall Norge ASA             87       4216.0\n1368  Wintershall Norge ASA             66       3585.0\n1366  Wintershall Norge ASA             55       2807.0\n1317  Wintershall Norge ASA             47       3006.0\n...                     ...            ...          ...\n1538       A/S Norske Shell             13       1800.0\n1534       A/S Norske Shell             12       1804.0\n1546       A/S Norske Shell             10       1805.0\n961        A/S Norske Shell              9       5035.0\n1462       A/S Norske Shell              0          0.0\n\n[1922 rows x 3 columns]"
     },
     "execution_count": 9,
     "metadata": {},
     "output_type": "execute_result"
    }
   ],
   "source": [
    "(wellbore_exploration_all\n",
    "    .filter(items=['drilling_operator', \"drilling_days\", \"total_depth\"])\n",
    "    .sort_values(by=[\"drilling_operator\", \"drilling_days\"], ascending=False)\n",
    ")"
   ]
  }
 ],
 "metadata": {
  "kernelspec": {
   "display_name": "Python 3",
   "language": "python",
   "name": "python3"
  },
  "language_info": {
   "codemirror_mode": {
    "name": "ipython",
    "version": 3
   },
   "file_extension": ".py",
   "mimetype": "text/x-python",
   "name": "python",
   "nbconvert_exporter": "python",
   "pygments_lexer": "ipython3",
   "version": "3.7.4"
  }
 },
 "nbformat": 4,
 "nbformat_minor": 2
}